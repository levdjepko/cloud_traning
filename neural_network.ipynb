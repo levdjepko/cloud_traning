{
 "cells": [
  {
   "cell_type": "markdown",
   "metadata": {},
   "source": [
    "# Build a DNN using the Keras Functional API\n",
    "\n",
    "\n",
    "\n",
    "\n",
    "## Learning objectives\n",
    "\n",
    "1. Review how to read in CSV file data using tf.data.\n",
    "2. Specify input, hidden, and output layers in the DNN architecture.\n",
    "3. Review and visualize the final DNN shape.\n",
    "4. Train the model locally and visualize the loss curves.\n",
    "5. Deploy and predict with the model using Cloud AI Platform. \n",
    "\n",
    "\n",
    "## Introduction\n",
    "\n",
    "In this notebook, we will build a Keras DNN to predict the fare amount for NYC taxi cab rides.\n",
    "\n",
    "Each learning objective will correspond to a __#TODO__ in this student lab notebook -- try to complete this notebook first and then review the [solution notebook](../solutions/neural_network.ipynb)."
   ]
  },
  {
   "cell_type": "code",
   "execution_count": 1,
   "metadata": {
    "tags": []
   },
   "outputs": [],
   "source": [
    "!sudo chown -R jupyter:jupyter /home/jupyter/training-data-analyst"
   ]
  },
  {
   "cell_type": "code",
   "execution_count": 2,
   "metadata": {
    "tags": []
   },
   "outputs": [
    {
     "name": "stdout",
     "output_type": "stream",
     "text": [
      "Reading package lists... Done\n",
      "Building dependency tree... Done\n",
      "Reading state information... Done\n",
      "The following additional packages will be installed:\n",
      "  fonts-liberation libann0 libcdt5 libcgraph6 libgts-0.7-5 libgts-bin libgvc6\n",
      "  libgvpr2 liblab-gamut1 libpathplan4\n",
      "Suggested packages:\n",
      "  gsfonts graphviz-doc\n",
      "The following NEW packages will be installed:\n",
      "  fonts-liberation graphviz libann0 libcdt5 libcgraph6 libgts-0.7-5 libgts-bin\n",
      "  libgvc6 libgvpr2 liblab-gamut1 libpathplan4\n",
      "0 upgraded, 11 newly installed, 0 to remove and 2 not upgraded.\n",
      "Need to get 3032 kB of archives.\n",
      "After this operation, 11.5 MB of additional disk space will be used.\n",
      "Get:1 https://deb.debian.org/debian bullseye/main amd64 fonts-liberation all 1:1.07.4-11 [828 kB]\n",
      "Get:2 https://deb.debian.org/debian bullseye/main amd64 libann0 amd64 1.1.2+doc-7 [25.3 kB]\n",
      "Get:3 https://deb.debian.org/debian bullseye/main amd64 libcdt5 amd64 2.42.2-5 [62.2 kB]\n",
      "Get:4 https://deb.debian.org/debian bullseye/main amd64 libcgraph6 amd64 2.42.2-5 [85.5 kB]\n",
      "Get:5 https://deb.debian.org/debian bullseye/main amd64 libgts-0.7-5 amd64 0.7.6+darcs121130-4+b1 [158 kB]\n",
      "Get:6 https://deb.debian.org/debian bullseye/main amd64 libpathplan4 amd64 2.42.2-5 [64.3 kB]\n",
      "Get:7 https://deb.debian.org/debian bullseye/main amd64 libgvc6 amd64 2.42.2-5 [695 kB]\n",
      "Get:8 https://deb.debian.org/debian bullseye/main amd64 libgvpr2 amd64 2.42.2-5 [212 kB]\n",
      "Get:9 https://deb.debian.org/debian bullseye/main amd64 liblab-gamut1 amd64 2.42.2-5 [221 kB]\n",
      "Get:10 https://deb.debian.org/debian bullseye/main amd64 graphviz amd64 2.42.2-5 [632 kB]\n",
      "Get:11 https://deb.debian.org/debian bullseye/main amd64 libgts-bin amd64 0.7.6+darcs121130-4+b1 [50.3 kB]\n",
      "Fetched 3032 kB in 0s (17.2 MB/s)      \n",
      "Selecting previously unselected package fonts-liberation.\n",
      "(Reading database ... 139149 files and directories currently installed.)\n",
      "Preparing to unpack .../00-fonts-liberation_1%3a1.07.4-11_all.deb ...\n",
      "Unpacking fonts-liberation (1:1.07.4-11) ...\n",
      "Selecting previously unselected package libann0.\n",
      "Preparing to unpack .../01-libann0_1.1.2+doc-7_amd64.deb ...\n",
      "Unpacking libann0 (1.1.2+doc-7) ...\n",
      "Selecting previously unselected package libcdt5:amd64.\n",
      "Preparing to unpack .../02-libcdt5_2.42.2-5_amd64.deb ...\n",
      "Unpacking libcdt5:amd64 (2.42.2-5) ...\n",
      "Selecting previously unselected package libcgraph6:amd64.\n",
      "Preparing to unpack .../03-libcgraph6_2.42.2-5_amd64.deb ...\n",
      "Unpacking libcgraph6:amd64 (2.42.2-5) ...\n",
      "Selecting previously unselected package libgts-0.7-5:amd64.\n",
      "Preparing to unpack .../04-libgts-0.7-5_0.7.6+darcs121130-4+b1_amd64.deb ...\n",
      "Unpacking libgts-0.7-5:amd64 (0.7.6+darcs121130-4+b1) ...\n",
      "Selecting previously unselected package libpathplan4:amd64.\n",
      "Preparing to unpack .../05-libpathplan4_2.42.2-5_amd64.deb ...\n",
      "Unpacking libpathplan4:amd64 (2.42.2-5) ...\n",
      "Selecting previously unselected package libgvc6.\n",
      "Preparing to unpack .../06-libgvc6_2.42.2-5_amd64.deb ...\n",
      "Unpacking libgvc6 (2.42.2-5) ...\n",
      "Selecting previously unselected package libgvpr2:amd64.\n",
      "Preparing to unpack .../07-libgvpr2_2.42.2-5_amd64.deb ...\n",
      "Unpacking libgvpr2:amd64 (2.42.2-5) ...\n",
      "Selecting previously unselected package liblab-gamut1:amd64.\n",
      "Preparing to unpack .../08-liblab-gamut1_2.42.2-5_amd64.deb ...\n",
      "Unpacking liblab-gamut1:amd64 (2.42.2-5) ...\n",
      "Selecting previously unselected package graphviz.\n",
      "Preparing to unpack .../09-graphviz_2.42.2-5_amd64.deb ...\n",
      "Unpacking graphviz (2.42.2-5) ...\n",
      "Selecting previously unselected package libgts-bin.\n",
      "Preparing to unpack .../10-libgts-bin_0.7.6+darcs121130-4+b1_amd64.deb ...\n",
      "Unpacking libgts-bin (0.7.6+darcs121130-4+b1) ...\n",
      "Setting up liblab-gamut1:amd64 (2.42.2-5) ...\n",
      "Setting up libgts-0.7-5:amd64 (0.7.6+darcs121130-4+b1) ...\n",
      "Setting up libpathplan4:amd64 (2.42.2-5) ...\n",
      "Setting up libann0 (1.1.2+doc-7) ...\n",
      "Setting up fonts-liberation (1:1.07.4-11) ...\n",
      "Setting up libcdt5:amd64 (2.42.2-5) ...\n",
      "Setting up libcgraph6:amd64 (2.42.2-5) ...\n",
      "Setting up libgts-bin (0.7.6+darcs121130-4+b1) ...\n",
      "Setting up libgvc6 (2.42.2-5) ...\n",
      "Setting up libgvpr2:amd64 (2.42.2-5) ...\n",
      "Setting up graphviz (2.42.2-5) ...\n",
      "Processing triggers for libc-bin (2.31-13+deb11u10) ...\n",
      "ldconfig: /usr/local/cuda-11.3/targets/x86_64-linux/lib/libcudnn.so.8 is not a symbolic link\n",
      "\n",
      "ldconfig: /usr/local/cuda-11.3/targets/x86_64-linux/lib/libcudnn_adv_infer.so.8 is not a symbolic link\n",
      "\n",
      "ldconfig: /usr/local/cuda-11.3/targets/x86_64-linux/lib/libcudnn_ops_train.so.8 is not a symbolic link\n",
      "\n",
      "ldconfig: /usr/local/cuda-11.3/targets/x86_64-linux/lib/libcudnn_cnn_infer.so.8 is not a symbolic link\n",
      "\n",
      "ldconfig: /usr/local/cuda-11.3/targets/x86_64-linux/lib/libcudnn_cnn_train.so.8 is not a symbolic link\n",
      "\n",
      "ldconfig: /usr/local/cuda-11.3/targets/x86_64-linux/lib/libcudnn_adv_train.so.8 is not a symbolic link\n",
      "\n",
      "ldconfig: /usr/local/cuda-11.3/targets/x86_64-linux/lib/libcudnn_ops_infer.so.8 is not a symbolic link\n",
      "\n",
      "ldconfig: /lib/libnvonnxparser.so.8 is not a symbolic link\n",
      "\n",
      "ldconfig: /lib/libnvinfer_plugin.so.8 is not a symbolic link\n",
      "\n",
      "ldconfig: /lib/libnvparsers.so.8 is not a symbolic link\n",
      "\n",
      "ldconfig: /lib/libnvinfer.so.8 is not a symbolic link\n",
      "\n",
      "Processing triggers for man-db (2.9.4-2) ...\n",
      "Processing triggers for fontconfig (2.13.1-4.2) ...\n"
     ]
    }
   ],
   "source": [
    "!sudo apt-get install graphviz -y"
   ]
  },
  {
   "cell_type": "code",
   "execution_count": 3,
   "metadata": {
    "tags": []
   },
   "outputs": [
    {
     "name": "stderr",
     "output_type": "stream",
     "text": [
      "2024-08-17 03:21:31.156685: I tensorflow/core/platform/cpu_feature_guard.cc:193] This TensorFlow binary is optimized with oneAPI Deep Neural Network Library (oneDNN) to use the following CPU instructions in performance-critical operations:  AVX2 FMA\n",
      "To enable them in other operations, rebuild TensorFlow with the appropriate compiler flags.\n",
      "2024-08-17 03:21:37.825931: W tensorflow/compiler/xla/stream_executor/platform/default/dso_loader.cc:64] Could not load dynamic library 'libnvinfer.so.7'; dlerror: libnvinfer.so.7: cannot open shared object file: No such file or directory; LD_LIBRARY_PATH: /usr/local/cuda/lib64:/usr/local/nccl2/lib:/usr/local/cuda/extras/CUPTI/lib64\n",
      "2024-08-17 03:21:37.827451: W tensorflow/compiler/xla/stream_executor/platform/default/dso_loader.cc:64] Could not load dynamic library 'libnvinfer_plugin.so.7'; dlerror: libnvinfer_plugin.so.7: cannot open shared object file: No such file or directory; LD_LIBRARY_PATH: /usr/local/cuda/lib64:/usr/local/nccl2/lib:/usr/local/cuda/extras/CUPTI/lib64\n",
      "2024-08-17 03:21:37.827473: W tensorflow/compiler/tf2tensorrt/utils/py_utils.cc:38] TF-TRT Warning: Cannot dlopen some TensorRT libraries. If you would like to use Nvidia GPU with TensorRT, please make sure the missing libraries mentioned above are installed properly.\n"
     ]
    },
    {
     "name": "stdout",
     "output_type": "stream",
     "text": [
      "TensorFlow version:  2.11.0\n"
     ]
    }
   ],
   "source": [
    "import os, json, math\n",
    "import numpy as np\n",
    "import shutil\n",
    "import tensorflow as tf\n",
    "print(\"TensorFlow version: \",tf.version.VERSION)\n",
    "\n",
    "os.environ['TF_CPP_MIN_LOG_LEVEL'] = '3' # SET TF ERROR LOG VERBOSITY"
   ]
  },
  {
   "cell_type": "markdown",
   "metadata": {},
   "source": [
    "## Locating the CSV files\n",
    "\n",
    "We will start with the CSV files that we wrote out in the other notebook. Just so you don't have to run the notebook, we saved a copy in ../data/toy_data"
   ]
  },
  {
   "cell_type": "code",
   "execution_count": 4,
   "metadata": {
    "tags": []
   },
   "outputs": [
    {
     "name": "stdout",
     "output_type": "stream",
     "text": [
      "-rw-r--r-- 1 jupyter jupyter 1111933 Aug 17 03:16 ../data/toy_data/taxi-traffic-test_toy.csv\n",
      "-rw-r--r-- 1 jupyter jupyter 4772181 Aug 17 03:16 ../data/toy_data/taxi-traffic-train_toy.csv\n",
      "-rw-r--r-- 1 jupyter jupyter 1038564 Aug 17 03:16 ../data/toy_data/taxi-traffic-valid_toy.csv\n"
     ]
    }
   ],
   "source": [
    "!ls -l ../data/toy_data/*.csv"
   ]
  },
  {
   "cell_type": "markdown",
   "metadata": {},
   "source": [
    "## Lab Task 1: Use tf.data to read the CSV files\n",
    "\n",
    "\n",
    "First let's define our columns of data, which column we're predicting for, and the default values."
   ]
  },
  {
   "cell_type": "code",
   "execution_count": 5,
   "metadata": {
    "tags": []
   },
   "outputs": [],
   "source": [
    "CSV_COLUMNS  = ['fare_amount',  'pickup_datetime',\n",
    "                'pickup_longitude', 'pickup_latitude', \n",
    "                'dropoff_longitude', 'dropoff_latitude', \n",
    "                'passenger_count', 'key']\n",
    "LABEL_COLUMN = 'fare_amount'\n",
    "DEFAULTS     = [[0.0],['na'],[0.0],[0.0],[0.0],[0.0],[0.0],['na']]"
   ]
  },
  {
   "cell_type": "markdown",
   "metadata": {},
   "source": [
    "Next, let's define our features we want to use and our label(s) and then load in the dataset for training."
   ]
  },
  {
   "cell_type": "code",
   "execution_count": 6,
   "metadata": {
    "tags": []
   },
   "outputs": [],
   "source": [
    "def features_and_labels(row_data):\n",
    "    for unwanted_col in ['pickup_datetime', 'key']:\n",
    "        row_data.pop(unwanted_col)\n",
    "    label = row_data.pop(LABEL_COLUMN)\n",
    "    return row_data, label  # features, label\n",
    "\n",
    "\n",
    "# load the training data\n",
    "def load_dataset(pattern, batch_size=1, mode=tf.estimator.ModeKeys.EVAL):\n",
    "  dataset = (tf.data.experimental.make_csv_dataset(pattern, batch_size, CSV_COLUMNS, DEFAULTS)\n",
    "             .map(features_and_labels) # features, label\n",
    "             )\n",
    "  if mode == tf.estimator.ModeKeys.TRAIN:\n",
    "        dataset = dataset.shuffle(1000).repeat()\n",
    "  dataset = dataset.prefetch(1) # take advantage of multi-threading; 1=AUTOTUNE\n",
    "  return dataset"
   ]
  },
  {
   "cell_type": "markdown",
   "metadata": {},
   "source": [
    "## Lab Task 2: Build a DNN with Keras\n",
    "\n",
    "Now let's build the Deep Neural Network (DNN) model in Keras and specify the input and hidden layers. We will print out the DNN architecture and then visualize it later on."
   ]
  },
  {
   "cell_type": "code",
   "execution_count": 7,
   "metadata": {
    "tags": []
   },
   "outputs": [
    {
     "name": "stdout",
     "output_type": "stream",
     "text": [
      "Here is our DNN architecture so far:\n",
      "\n",
      "Model: \"model\"\n",
      "__________________________________________________________________________________________________\n",
      " Layer (type)                   Output Shape         Param #     Connected to                     \n",
      "==================================================================================================\n",
      " dropoff_latitude (InputLayer)  [(None,)]            0           []                               \n",
      "                                                                                                  \n",
      " dropoff_longitude (InputLayer)  [(None,)]           0           []                               \n",
      "                                                                                                  \n",
      " passenger_count (InputLayer)   [(None,)]            0           []                               \n",
      "                                                                                                  \n",
      " pickup_latitude (InputLayer)   [(None,)]            0           []                               \n",
      "                                                                                                  \n",
      " pickup_longitude (InputLayer)  [(None,)]            0           []                               \n",
      "                                                                                                  \n",
      " dense_features (DenseFeatures)  (None, 5)           0           ['dropoff_latitude[0][0]',       \n",
      "                                                                  'dropoff_longitude[0][0]',      \n",
      "                                                                  'passenger_count[0][0]',        \n",
      "                                                                  'pickup_latitude[0][0]',        \n",
      "                                                                  'pickup_longitude[0][0]']       \n",
      "                                                                                                  \n",
      " h1 (Dense)                     (None, 32)           192         ['dense_features[0][0]']         \n",
      "                                                                                                  \n",
      " h2 (Dense)                     (None, 8)            264         ['h1[0][0]']                     \n",
      "                                                                                                  \n",
      " fare (Dense)                   (None, 1)            9           ['h2[0][0]']                     \n",
      "                                                                                                  \n",
      "==================================================================================================\n",
      "Total params: 465\n",
      "Trainable params: 465\n",
      "Non-trainable params: 0\n",
      "__________________________________________________________________________________________________\n",
      "None\n"
     ]
    }
   ],
   "source": [
    "## Build a simple Keras DNN using its Functional API\n",
    "def rmse(y_true, y_pred):\n",
    "    return tf.sqrt(tf.reduce_mean(tf.square(y_pred - y_true))) \n",
    "\n",
    "def build_dnn_model():\n",
    "    INPUT_COLS = ['pickup_longitude', 'pickup_latitude', \n",
    "                  'dropoff_longitude', 'dropoff_latitude', \n",
    "                  'passenger_count']\n",
    "\n",
    "    # TODO 2\n",
    "    # input layer\n",
    "    inputs = {\n",
    "        colname : tf.keras.layers.Input(name=colname, shape=(), dtype='float32')\n",
    "           for colname in INPUT_COLS\n",
    "    }\n",
    "    # tf.feature_column.numeric_column() represents real valued or numerical features.\n",
    "    feature_columns = {\n",
    "        colname : tf.feature_column.numeric_column(colname)\n",
    "           for colname in INPUT_COLS\n",
    "    }\n",
    "    \n",
    "    # the constructor for DenseFeatures takes a list of numeric columns\n",
    "    # The Functional API in Keras requires that you specify: LayerConstructor()(inputs)\n",
    "    dnn_inputs = tf.keras.layers.DenseFeatures(feature_columns.values())(inputs)\n",
    "\n",
    "    # two hidden layers of [32, 8] just in like the BQML DNN\n",
    "    h1 = tf.keras.layers.Dense(32, activation='relu', name='h1')(dnn_inputs)\n",
    "    h2 = tf.keras.layers.Dense(8, activation='relu', name='h2')(h1)\n",
    "\n",
    "    # final output is a linear activation because this is regression\n",
    "    output = tf.keras.layers.Dense(1, activation='linear', name='fare')(h2)\n",
    "    model = tf.keras.models.Model(inputs, output)\n",
    "    model.compile(optimizer='adam', loss='mse', metrics=[rmse, 'mse'])\n",
    "    return model\n",
    "\n",
    "print(\"Here is our DNN architecture so far:\\n\")\n",
    "model = build_dnn_model()\n",
    "print(model.summary())"
   ]
  },
  {
   "cell_type": "markdown",
   "metadata": {},
   "source": [
    "## Lab Task 3: Visualize the DNN\n",
    "\n",
    "We can visualize the DNN using the Keras [plot_model](https://www.tensorflow.org/versions/r2.0/api_docs/python/tf/keras/utils/plot_model) utility."
   ]
  },
  {
   "cell_type": "code",
   "execution_count": 8,
   "metadata": {
    "tags": []
   },
   "outputs": [
    {
     "data": {
      "image/png": "[encoded data removed]",
      "text/plain": [
       "<IPython.core.display.Image object>"
      ]
     },
     "execution_count": 8,
     "metadata": {},
     "output_type": "execute_result"
    }
   ],
   "source": [
    "tf.keras.utils.plot_model(model, 'dnn_model.png', show_shapes=False, rankdir='LR')"
   ]
  },
  {
   "cell_type": "markdown",
   "metadata": {},
   "source": [
    "## Lab Task 4: Train the model\n",
    "\n",
    "To train the model, simply call [model.fit()](https://keras.io/models/model/#fit).\n",
    "\n",
    "Note that we should really use many more NUM_TRAIN_EXAMPLES (i.e. a larger dataset). We shouldn't make assumptions about the quality of the model based on training/evaluating it on a small sample of the full data."
   ]
  },
  {
   "cell_type": "code",
   "execution_count": null,
   "metadata": {
    "tags": []
   },
   "outputs": [
    {
     "name": "stdout",
     "output_type": "stream",
     "text": [
      "Epoch 1/32\n",
      "48/48 [==============================] - 3s 27ms/step - loss: 231.2333 - rmse: 14.9712 - mse: 231.2333 - val_loss: 217.2444 - val_rmse: 14.7225 - val_mse: 217.2444\n",
      "Epoch 2/32\n",
      "48/48 [==============================] - 1s 13ms/step - loss: 213.7824 - rmse: 14.3401 - mse: 213.7824 - val_loss: 213.4341 - val_rmse: 14.5951 - val_mse: 213.4341\n",
      "Epoch 3/32\n",
      "48/48 [==============================] - 1s 11ms/step - loss: 222.1456 - rmse: 14.4932 - mse: 222.1456 - val_loss: 216.4194 - val_rmse: 14.7027 - val_mse: 216.4194\n",
      "Epoch 4/32\n",
      "48/48 [==============================] - 1s 12ms/step - loss: 215.8524 - rmse: 14.3474 - mse: 215.8524 - val_loss: 204.2426 - val_rmse: 14.2739 - val_mse: 204.2426\n",
      "Epoch 5/32\n",
      "48/48 [==============================] - 1s 11ms/step - loss: 219.1400 - rmse: 14.4872 - mse: 219.1400 - val_loss: 208.8340 - val_rmse: 14.4465 - val_mse: 208.8340\n",
      "Epoch 6/32\n",
      "48/48 [==============================] - 1s 11ms/step - loss: 210.3154 - rmse: 14.2419 - mse: 210.3154 - val_loss: 204.1906 - val_rmse: 14.2716 - val_mse: 204.1906\n",
      "Epoch 7/32\n",
      "48/48 [==============================] - 1s 11ms/step - loss: 241.5809 - rmse: 15.0764 - mse: 241.5809 - val_loss: 198.3509 - val_rmse: 14.0692 - val_mse: 198.3509\n",
      "Epoch 8/32\n",
      "48/48 [==============================] - 0s 10ms/step - loss: 217.5221 - rmse: 14.4800 - mse: 217.5221 - val_loss: 207.7822 - val_rmse: 14.4048 - val_mse: 207.7822\n",
      "Epoch 9/32\n",
      "48/48 [==============================] - 1s 11ms/step - loss: 192.8808 - rmse: 13.6725 - mse: 192.8808 - val_loss: 210.0782 - val_rmse: 14.4851 - val_mse: 210.0782\n",
      "Epoch 10/32\n",
      "48/48 [==============================] - 1s 11ms/step - loss: 217.5860 - rmse: 14.1150 - mse: 217.5860 - val_loss: 208.3412 - val_rmse: 14.4130 - val_mse: 208.3412\n",
      "Epoch 11/32\n",
      "48/48 [==============================] - 0s 10ms/step - loss: 224.3770 - rmse: 14.5165 - mse: 224.3770 - val_loss: 207.5184 - val_rmse: 14.3911 - val_mse: 207.5184\n",
      "Epoch 12/32\n",
      "48/48 [==============================] - 1s 11ms/step - loss: 185.0468 - rmse: 13.3751 - mse: 185.0468 - val_loss: 204.4254 - val_rmse: 14.2827 - val_mse: 204.4254\n",
      "Epoch 13/32\n",
      "48/48 [==============================] - 1s 11ms/step - loss: 202.4465 - rmse: 13.8945 - mse: 202.4465 - val_loss: 201.7847 - val_rmse: 14.1927 - val_mse: 201.7847\n",
      "Epoch 14/32\n",
      "48/48 [==============================] - 0s 10ms/step - loss: 203.1015 - rmse: 14.0126 - mse: 203.1015 - val_loss: 201.9167 - val_rmse: 14.1955 - val_mse: 201.9167\n",
      "Epoch 15/32\n",
      "48/48 [==============================] - 1s 11ms/step - loss: 219.3823 - rmse: 14.3573 - mse: 219.3823 - val_loss: 198.9011 - val_rmse: 14.0769 - val_mse: 198.9011\n",
      "Epoch 16/32\n",
      "48/48 [==============================] - 1s 12ms/step - loss: 207.8050 - rmse: 13.9616 - mse: 207.8050 - val_loss: 199.5757 - val_rmse: 14.1210 - val_mse: 199.5757\n",
      "Epoch 17/32\n",
      "48/48 [==============================] - 0s 10ms/step - loss: 196.6380 - rmse: 13.6820 - mse: 196.6380 - val_loss: 196.6627 - val_rmse: 14.0170 - val_mse: 196.6627\n",
      "Epoch 18/32\n",
      "48/48 [==============================] - 1s 11ms/step - loss: 206.0178 - rmse: 13.9863 - mse: 206.0178 - val_loss: 198.6897 - val_rmse: 14.0720 - val_mse: 198.6897\n",
      "Epoch 19/32\n",
      "48/48 [==============================] - 1s 10ms/step - loss: 212.7158 - rmse: 14.2305 - mse: 212.7158 - val_loss: 200.2111 - val_rmse: 14.1382 - val_mse: 200.2111\n",
      "Epoch 20/32\n",
      "48/48 [==============================] - 0s 10ms/step - loss: 193.0079 - rmse: 13.5871 - mse: 193.0079 - val_loss: 195.4119 - val_rmse: 13.9642 - val_mse: 195.4119\n",
      "Epoch 21/32\n",
      "48/48 [==============================] - 1s 11ms/step - loss: 221.7380 - rmse: 14.4144 - mse: 221.7380 - val_loss: 193.0819 - val_rmse: 13.8734 - val_mse: 193.0819\n",
      "Epoch 22/32\n",
      "48/48 [==============================] - 0s 11ms/step - loss: 214.7845 - rmse: 14.2249 - mse: 214.7845 - val_loss: 190.0875 - val_rmse: 13.7774 - val_mse: 190.0875\n",
      "Epoch 23/32\n",
      "48/48 [==============================] - 0s 10ms/step - loss: 230.5095 - rmse: 14.3142 - mse: 230.5095 - val_loss: 193.6019 - val_rmse: 13.9087 - val_mse: 193.6019\n",
      "Epoch 24/32\n",
      "48/48 [==============================] - 1s 11ms/step - loss: 162.6806 - rmse: 12.4917 - mse: 162.6806 - val_loss: 193.9440 - val_rmse: 13.9088 - val_mse: 193.9440\n",
      "Epoch 25/32\n",
      "48/48 [==============================] - 0s 10ms/step - loss: 202.8482 - rmse: 13.9649 - mse: 202.8482 - val_loss: 190.1504 - val_rmse: 13.7779 - val_mse: 190.1504\n",
      "Epoch 26/32\n",
      "48/48 [==============================] - 1s 11ms/step - loss: 222.0986 - rmse: 14.5035 - mse: 222.0986 - val_loss: 193.7033 - val_rmse: 13.8984 - val_mse: 193.7033\n",
      "Epoch 27/32\n",
      "48/48 [==============================] - 0s 10ms/step - loss: 198.3032 - rmse: 13.6902 - mse: 198.3032 - val_loss: 189.5188 - val_rmse: 13.7582 - val_mse: 189.5188\n",
      "Epoch 28/32\n",
      "48/48 [==============================] - 1s 11ms/step - loss: 195.3096 - rmse: 13.6912 - mse: 195.3096 - val_loss: 185.1715 - val_rmse: 13.5991 - val_mse: 185.1715\n",
      "Epoch 29/32\n",
      "48/48 [==============================] - 1s 16ms/step - loss: 202.2109 - rmse: 13.8059 - mse: 202.2109 - val_loss: 189.6092 - val_rmse: 13.7631 - val_mse: 189.6092\n",
      "Epoch 30/32\n",
      "48/48 [==============================] - 1s 11ms/step - loss: 172.1243 - rmse: 12.8386 - mse: 172.1243 - val_loss: 188.0651 - val_rmse: 13.6848 - val_mse: 188.0651\n",
      "Epoch 31/32\n",
      "28/48 [================>.............] - ETA: 0s - loss: 180.0665 - rmse: 12.9888 - mse: 180.0665"
     ]
    }
   ],
   "source": [
    "TRAIN_BATCH_SIZE = 32\n",
    "NUM_TRAIN_EXAMPLES = 10000 * 5 # training dataset repeats, so it will wrap around\n",
    "NUM_EVALS = 32  # how many times to evaluate\n",
    "NUM_EVAL_EXAMPLES = 10000 # enough to get a reasonable sample, but not so much that it slows down\n",
    "\n",
    "trainds = load_dataset('../data/toy_data/taxi-traffic-train*', TRAIN_BATCH_SIZE, tf.estimator.ModeKeys.TRAIN)\n",
    "evalds = load_dataset('../data/toy_data/taxi-traffic-valid*', 1000, tf.estimator.ModeKeys.EVAL).take(NUM_EVAL_EXAMPLES//1000)\n",
    "\n",
    "steps_per_epoch = NUM_TRAIN_EXAMPLES // (TRAIN_BATCH_SIZE * NUM_EVALS)\n",
    "\n",
    "history = model.fit(trainds, \n",
    "                    validation_data=evalds,\n",
    "                    epochs=NUM_EVALS, \n",
    "                    steps_per_epoch=steps_per_epoch)"
   ]
  },
  {
   "cell_type": "markdown",
   "metadata": {},
   "source": [
    "### Visualize the model loss curve\n",
    "\n",
    "Next, we will use matplotlib to draw the model's loss curves for training and validation."
   ]
  },
  {
   "cell_type": "code",
   "execution_count": null,
   "metadata": {},
   "outputs": [],
   "source": [
    "# plot\n",
    "import matplotlib.pyplot as plt\n",
    "nrows = 1\n",
    "ncols = 2\n",
    "fig = plt.figure(figsize=(10, 5))\n",
    "\n",
    "for idx, key in enumerate(['loss', 'rmse']):\n",
    "    ax = fig.add_subplot(nrows, ncols, idx+1)\n",
    "    plt.plot(history.history[key])\n",
    "    plt.plot(history.history['val_{}'.format(key)])\n",
    "    plt.title('model {}'.format(key))\n",
    "    plt.ylabel(key)\n",
    "    plt.xlabel('epoch')\n",
    "    plt.legend(['train', 'validation'], loc='upper left');"
   ]
  },
  {
   "cell_type": "markdown",
   "metadata": {},
   "source": [
    "## Lab Task 5: Predict with the model locally\n",
    "\n",
    "To predict with Keras, you simply call [model.predict()](https://keras.io/models/model/#predict) and pass in the cab ride you want to predict the fare amount for."
   ]
  },
  {
   "cell_type": "code",
   "execution_count": null,
   "metadata": {},
   "outputs": [],
   "source": [
    "# TODO 5\n",
    "# TODO -- Your code here.\n"
   ]
  },
  {
   "cell_type": "markdown",
   "metadata": {},
   "source": [
    "Of course, this is not realistic, because we can't expect client code to have a model object in memory. We'll have to export our model to a file, and expect client code to instantiate the model from that exported file."
   ]
  },
  {
   "cell_type": "markdown",
   "metadata": {},
   "source": [
    "Copyright 2021 Google Inc.\n",
    "Licensed under the Apache License, Version 2.0 (the \"License\"); you may not use this file except in compliance with the License. You may obtain a copy of the License at\n",
    "http://www.apache.org/licenses/LICENSE-2.0\n",
    "Unless required by applicable law or agreed to in writing, software distributed under the License is distributed on an \"AS IS\" BASIS, WITHOUT WARRANTIES OR CONDITIONS OF ANY KIND, either express or implied. See the License for the specific language governing permissions and limitations under the License."
   ]
  }
 ],
 "metadata": {
  "environment": {
   "kernel": "python3",
   "name": "tf2-cpu.2-11.m124",
   "type": "gcloud",
   "uri": "us-docker.pkg.dev/deeplearning-platform-release/gcr.io/tf2-cpu.2-11:m124"
  },
  "kernelspec": {
   "display_name": "Python 3 (Local)",
   "language": "python",
   "name": "python3"
  },
  "language_info": {
   "codemirror_mode": {
    "name": "ipython",
    "version": 3
   },
   "file_extension": ".py",
   "mimetype": "text/x-python",
   "name": "python",
   "nbconvert_exporter": "python",
   "pygments_lexer": "ipython3",
   "version": "3.10.14"
  }
 },
 "nbformat": 4,
 "nbformat_minor": 4
}
